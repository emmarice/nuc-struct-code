{
  "nbformat": 4,
  "nbformat_minor": 0,
  "metadata": {
    "colab": {
      "provenance": []
    },
    "kernelspec": {
      "name": "python3",
      "display_name": "Python 3"
    },
    "language_info": {
      "name": "python"
    }
  },
  "cells": [
    {
      "cell_type": "markdown",
      "source": [
        "**RELEX**\n",
        "---\n",
        "Emma Rice,\n",
        "emmarice@berkeley.edu,\n",
        "1/12/2023\n",
        "\n",
        "---\n",
        "Adapted from the [Bertulani '99](https://www.sciencedirect.com/science/article/pii/S0010465598001416) fortran code by the same name for relativistic Coulomb excitation. \"One may calculate the multiple electric dipole, electric quadrupole, and magnetic dipole Coulomb excitation with relativistic heavy ions. The program applies to an arbitrary nucleus, specified by the spins and energies of the levels and by all El, E2, and M1 matrix elements. Nuclear excitation is calculated optionally for monopole, dipole, and quadrupole excitations and needs inputs of optical potentials. For given bombarding conditions, one may compute the differential cross sections and statistical tensor for angular distribution.\"\n",
        "\n",
        "---\n",
        "#**Intro**\n",
        "\n",
        "\n",
      ],
      "metadata": {
        "id": "WsoivyhcWeAn"
      }
    },
    {
      "cell_type": "code",
      "execution_count": null,
      "metadata": {
        "id": "9X8XwrdmWauw"
      },
      "outputs": [],
      "source": [
        "import numpy as np"
      ]
    },
    {
      "cell_type": "code",
      "source": [
        "ap = 25.01\n",
        "zp = 9.0\n",
        "at = 208.98\n",
        "zt = 83.0\n",
        "iw = 0\n",
        "iout = 1 \n",
        "nb = 40\n",
        "accur = 0.001\n",
        "bmin = 10.0\n",
        "itot = 1\n",
        "iopw = 0\n",
        "iopnuc = 0\n",
        "nst = 2\n",
        "\n"
      ],
      "metadata": {
        "id": "WwS8QqZYpwxY"
      },
      "execution_count": null,
      "outputs": []
    },
    {
      "cell_type": "code",
      "source": [
        "#--------------------------------------------------------------------\n",
        "#                  START PROGRAM\n",
        "#--------------------------------------------------------------------\n",
        "#\n",
        "      #implicit real*8(a-h,o-z)\n",
        "      # (i-n are integers)\n",
        "      \n",
        "      intr = np.array(ngrid+1,dtype = int)\n",
        "      mj = np.array(nstmax, dtype = int)\n",
        "      ii = np.array(nstmax+1, dtype = int)\n",
        "      istop = np.array(nmax+1, dtype = int)\n",
        "      \n",
        "      mm, jj, exx = np.array(nstmax,dtype = float)\n",
        "      intb, b, tb, pint, pint_2, bcorr = np.array(nbmax,dtype = float)\n",
        "      mnkap = 0\n",
        "      mat = np.array((3,nmax+1,nmax+1), dtype = float)\n",
        "      spin, ex = np.array(nmax, dtype = float)\n",
        "      fd = np.array(2)\n",
        "      delte = np.array((3, nmax), dtype = float)\n",
        "      pcc = np.array((nmax,nbmax), dtype = float)\n",
        "      dens1, dens2, dru, r, z, ru = np.array(ngrid+1, dtype = float)\n",
        "      psitot = np.array((3, nstmax, nstmax), dtype = float)\n",
        "      psi = np.array((3, nbmax, nstmax, nstmax), dtype = float)\n",
        "      xi = np.array((nstmax, nstmax), dtype = float)\n",
        "      spinave = np.array((nbmax, nbmax), dtype = float)\n",
        "      iv, fak, fad = np.array(131, dtype = float)\n",
        "\n",
        "\n",
        "      ei, fact = 0j # complex\n",
        "      ca, dca = np.array(nstmax, dtype = complex)\n",
        "      wn, wn2, wn1, u = np.array(ngrid+1, dtype = complex)\n",
        "      phasen = np.array(nbmax, dtype = complex)\n",
        "      psinuc = = np.array((3, ngrid+1, nstmax, nstmax), dtype = complex)\n",
        "      ubm = np.array((3, ngrid+1), dtype = complex)\n",
        "      stat = np.array((nmax, 11, 21), dtype = complex)\n",
        "      \n",
        "      '''\n",

      ],
      "metadata": {
        "id": "nGqyWyi2FP_3"
      },
      "execution_count": null,
      "outputs": []
    }
  ]
}